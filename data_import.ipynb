{
 "cells": [
  {
   "cell_type": "code",
   "execution_count": null,
   "id": "parallel-floor",
   "metadata": {},
   "outputs": [],
   "source": [
    "# Before running notebook:\n",
    "# pip install xlrd==1.2.0\n",
    "\n",
    "# After running, re-upgrade:\n",
    "# pip install xlrd==2.0.1\n",
    "\n",
    "import openpyxl"
   ]
  },
  {
   "cell_type": "code",
   "execution_count": null,
   "id": "collect-northeast",
   "metadata": {},
   "outputs": [],
   "source": [
    "# Automatically run and import py:\n",
    "#TODO %run C:/Users/Wolfs/PycharmProjects/bf768db_project/data_import_charm.py\n",
    "%run C:/Users/Wolfs/PycharmProjects/bf768db_project/data_import_charm.py"
   ]
  },
  {
   "cell_type": "code",
   "execution_count": null,
   "id": "asian-fraud",
   "metadata": {},
   "outputs": [],
   "source": [
    "# %load C:/Users/Wolfs/PycharmProjects/bf768db_project/data_import_charm.py"
   ]
  },
  {
   "cell_type": "code",
   "execution_count": null,
   "id": "public-oregon",
   "metadata": {},
   "outputs": [],
   "source": [
    "pip install xlrd==1.2.0"
   ]
  },
  {
   "cell_type": "code",
   "execution_count": 2,
   "id": "double-connecticut",
   "metadata": {},
   "outputs": [
    {
     "name": "stdout",
     "output_type": "stream",
     "text": [
      "Requirement already satisfied: xlrd==2.0.1 in c:\\users\\wolfs\\anaconda3\\lib\\site-packages (2.0.1)\n",
      "Note: you may need to restart the kernel to use updated packages.\n"
     ]
    }
   ],
   "source": [
    "pip install xlrd==2.0.1"
   ]
  },
  {
   "cell_type": "code",
   "execution_count": null,
   "id": "fifth-pregnancy",
   "metadata": {},
   "outputs": [],
   "source": []
  },
  {
   "cell_type": "code",
   "execution_count": null,
   "id": "imperial-tokyo",
   "metadata": {},
   "outputs": [],
   "source": []
  }
 ],
 "metadata": {
  "kernelspec": {
   "display_name": "Python 3",
   "language": "python",
   "name": "python3"
  },
  "language_info": {
   "codemirror_mode": {
    "name": "ipython",
    "version": 3
   },
   "file_extension": ".py",
   "mimetype": "text/x-python",
   "name": "python",
   "nbconvert_exporter": "python",
   "pygments_lexer": "ipython3",
   "version": "3.8.3"
  }
 },
 "nbformat": 4,
 "nbformat_minor": 5
}
