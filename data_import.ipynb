{
 "cells": [
  {
   "cell_type": "code",
   "execution_count": 2,
   "id": "collect-northeast",
   "metadata": {},
   "outputs": [
    {
     "name": "stdout",
     "output_type": "stream",
     "text": [
      "Password (bu): ········\n",
      "Password (bioed): ········\n",
      "Password (bioed): ········\n",
      "Create table statement:\n",
      "CREATE TABLE cr ( \n",
      "anid int NOT NULL AUTO_INCREMENT, \n",
      "study_name VARCHAR(200), \n",
      "study_year int, \n",
      "sample_type VARCHAR(200), \n",
      "geo_cord_system VARCHAR(100), \n",
      "utm_cord_system VARCHAR(100), \n",
      "study_loc_id VARCHAR(100), \n",
      "principal_doc VARCHAR(100), \n",
      "location_id VARCHAR(100), \n",
      "lab VARCHAR(100), \n",
      "lab_pkg VARCHAR(100), \n",
      "anal_type VARCHAR(100), \n",
      "labsample VARCHAR(100), \n",
      "study_id VARCHAR(100), \n",
      "sample_no VARCHAR(100), \n",
      "sampcoll_id VARCHAR(100), \n",
      "sum_sample_id VARCHAR(100), \n",
      "sample_id VARCHAR(100), \n",
      "sample_date DATETIME, \n",
      "study_element VARCHAR(100), \n",
      "composite_type VARCHAR(100), \n",
      "taxon VARCHAR(100), \n",
      "sample_material VARCHAR(100), \n",
      "sample_description VARCHAR(100), \n",
      "subsamp_type VARCHAR(100), \n",
      "upper_depth DECIMAL(40,15), \n",
      "lower_depth DECIMAL(40,15), \n",
      "depth_units VARCHAR(100), \n",
      "material_analyzed VARCHAR(100), \n",
      "method_code VARCHAR(100), \n",
      "meas_basis VARCHAR(100), \n",
      "lab_rep INT, \n",
      "analyte VARCHAR(100), \n",
      "full_name VARCHAR(100), \n",
      "cas_rn INT, \n",
      "original_lab_result DECIMAL(40,15), \n",
      "meas_value DECIMAL(40,15), \n",
      "units VARCHAR(100), \n",
      "sig_figs INT, \n",
      "lab_flags VARCHAR(100), \n",
      "qa_level VARCHAR(100), \n",
      "lab_conc_qual VARCHAR(100), \n",
      "validator_flags VARCHAR(100), \n",
      "detection_limit INT, \n",
      "reporting_limit INT, \n",
      "undetected VARCHAR(100), \n",
      "estimated VARCHAR(100), \n",
      "rejected VARCHAR(100), \n",
      "greater_than VARCHAR(100), \n",
      "tic VARCHAR(100), \n",
      "reportable VARCHAR(100), \n",
      "alias_id VARCHAR(100), \n",
      "comments VARCHAR(1000), \n",
      "river_mile DECIMAL(40,15), \n",
      "x_coord DECIMAL(40,15), \n",
      "y_coord DECIMAL(40,15), \n",
      "utm_x DECIMAL(40,15), \n",
      "utm_y DECIMAL(40,15), \n",
      "srid DECIMAL(40,15), \n",
      "lat_WGS84_auto_calculated_only_for_mapping DECIMAL(40,15), \n",
      "lon_WGS84_auto_calculated_only_for_mapping DECIMAL(40,15), \n",
      "PRIMARY KEY (anid) \n",
      ") ENGINE = INNODB;\n",
      "Column names after table built:\n",
      "Index(['study_name', 'study_year', 'sample_type', 'geo_cord_system',\n",
      "       'utm_cord_system', 'study_loc_id', 'principal_doc', 'location_id',\n",
      "       'lab', 'lab_pkg', 'anal_type', 'labsample', 'study_id', 'sample_no',\n",
      "       'sampcoll_id', 'sum_sample_id', 'sample_id', 'sample_date',\n",
      "       'study_element', 'composite_type', 'taxon', 'sample_material',\n",
      "       'sample_description', 'subsamp_type', 'upper_depth', 'lower_depth',\n",
      "       'depth_units', 'material_analyzed', 'method_code', 'meas_basis',\n",
      "       'lab_rep', 'analyte', 'full_name', 'cas_rn', 'original_lab_result',\n",
      "       'meas_value', 'units', 'sig_figs', 'lab_flags', 'qa_level',\n",
      "       'lab_conc_qual', 'validator_flags', 'detection_limit',\n",
      "       'reporting_limit', 'undetected', 'estimated', 'rejected',\n",
      "       'greater_than', 'tic', 'reportable', 'alias_id', 'comments',\n",
      "       'river_mile', 'x_coord', 'y_coord', 'srid'],\n",
      "      dtype='object')\n",
      "COLUMN NAMES:\n",
      "['study_name', 'study_year', 'sample_type', 'geo_cord_system', 'utm_cord_system', 'study_loc_id', 'principal_doc', 'location_id', 'lab', 'lab_pkg', 'anal_type', 'labsample', 'study_id', 'sample_no', 'sampcoll_id', 'sum_sample_id', 'sample_id', 'sample_date', 'study_element', 'composite_type', 'taxon', 'sample_material', 'sample_description', 'subsamp_type', 'upper_depth', 'lower_depth', 'depth_units', 'material_analyzed', 'method_code', 'meas_basis', 'lab_rep', 'analyte', 'full_name', 'cas_rn', 'original_lab_result', 'meas_value', 'units', 'sig_figs', 'lab_flags', 'qa_level', 'lab_conc_qual', 'validator_flags', 'detection_limit', 'reporting_limit', 'undetected', 'estimated', 'rejected', 'greater_than', 'tic', 'reportable', 'alias_id', 'comments', 'river_mile', 'x_coord', 'y_coord', 'srid']\n",
      "Columns shared with the reference:\n",
      "['subsamp_type', 'meas_value', 'estimated', 'location_id', 'undetected', 'full_name', 'lab_pkg', 'study_id', 'study_name', 'taxon', 'alias_id', 'upper_depth', 'river_mile', 'sample_type', 'geo_cord_system', 'lab', 'principal_doc', 'detection_limit', 'srid', 'study_element', 'study_year', 'lab_rep', 'utm_cord_system', 'sample_date', 'study_loc_id', 'method_code', 'greater_than', 'tic', 'y_coord', 'labsample', 'cas_rn', 'units', 'sample_no', 'reporting_limit', 'lab_conc_qual', 'sample_description', 'validator_flags', 'rejected', 'comments', 'sum_sample_id', 'anal_type', 'x_coord', 'sample_material', 'lab_flags', 'lower_depth', 'sample_id', 'analyte', 'sig_figs', 'reportable', 'material_analyzed', 'meas_basis', 'composite_type', 'original_lab_result', 'depth_units', 'qa_level', 'sampcoll_id']\n",
      "Columns that are new:\n",
      "[]\n",
      "Columns that are missing:\n",
      "['utm_y', 'lon_WGS84_auto_calculated_only_for_mapping', 'utm_x', 'lat_WGS84_auto_calculated_only_for_mapping']\n",
      "Password (bioed): ········\n"
     ]
    }
   ],
   "source": [
    "# Automatically run and import py:\n",
    "#TODO %run C:/Users/Wolfs/PycharmProjects/bf768db_project/data_import_charm.py\n",
    "%run C:/Users/Wolfs/PycharmProjects/bf768db_project/data_import_charm.py"
   ]
  },
  {
   "cell_type": "code",
   "execution_count": null,
   "id": "asian-fraud",
   "metadata": {},
   "outputs": [],
   "source": [
    "# %load C:/Users/Wolfs/PycharmProjects/bf768db_project/data_import_charm.py"
   ]
  },
  {
   "cell_type": "code",
   "execution_count": null,
   "id": "public-oregon",
   "metadata": {},
   "outputs": [],
   "source": []
  },
  {
   "cell_type": "code",
   "execution_count": null,
   "id": "double-connecticut",
   "metadata": {},
   "outputs": [],
   "source": []
  },
  {
   "cell_type": "code",
   "execution_count": null,
   "id": "fifth-pregnancy",
   "metadata": {},
   "outputs": [],
   "source": []
  },
  {
   "cell_type": "code",
   "execution_count": null,
   "id": "imperial-tokyo",
   "metadata": {},
   "outputs": [],
   "source": []
  }
 ],
 "metadata": {
  "kernelspec": {
   "display_name": "Python 3",
   "language": "python",
   "name": "python3"
  },
  "language_info": {
   "codemirror_mode": {
    "name": "ipython",
    "version": 3
   },
   "file_extension": ".py",
   "mimetype": "text/x-python",
   "name": "python",
   "nbconvert_exporter": "python",
   "pygments_lexer": "ipython3",
   "version": "3.8.3"
  }
 },
 "nbformat": 4,
 "nbformat_minor": 5
}
