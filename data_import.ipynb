{
 "cells": [
  {
   "cell_type": "code",
   "execution_count": 1,
   "id": "seasonal-execution",
   "metadata": {},
   "outputs": [
    {
     "name": "stdout",
     "output_type": "stream",
     "text": [
      "Testing\n",
      "Password (bu): ········\n",
      "Password (bioed): ········\n",
      "Password (bioed): ········\n",
      "CREATE TABLE cr ( \n",
      "anid int NOT NULL AUTO_INCREMENT, \n",
      "study_name VARCHAR(200), \n",
      "study_year int, \n",
      "geo_cord_system VARCHAR(100), \n",
      "utm_cord_system VARCHAR(100), \n",
      "study_loc_id VARCHAR(200), \n",
      "principal_doc VARCHAR(200), \n",
      "location_id VARCHAR(200), \n",
      "lab VARCHAR(200), \n",
      "lab_pkg VARCHAR(200), \n",
      "anal_type VARCHAR(200), \n",
      "labsample VARCHAR(200), \n",
      "study_id VARCHAR(200), \n",
      "sample_no VARCHAR(200), \n",
      "sampcoll_id VARCHAR(200), \n",
      "sum_sample_id VARCHAR(200), \n",
      "sample_id VARCHAR(200), \n",
      "sample_date DATETIME, \n",
      "study_element VARCHAR(200), \n",
      "composite_type VARCHAR(200), \n",
      "taxon VARCHAR(200), \n",
      "sample_material VARCHAR(200), \n",
      "sample_description VARCHAR(200), \n",
      "subsamp_type VARCHAR(200), \n",
      "upper_depth DECIMAL, \n",
      "lower_depth DECIMAL, \n",
      "depth_units VARCHAR(200), \n",
      "material_analyzed VARCHAR(200), \n",
      "method_code VARCHAR(200), \n",
      "meas_basis VARCHAR(200), \n",
      "lab_rep INT, \n",
      "analyte DECIMAL, \n",
      "full_name DECIMAL, \n",
      "cas_rn INT, \n",
      "original_lab_result DECIMAL, \n",
      "meas_value DECIMAL, \n",
      "units VARCHAR(200), \n",
      "sig_figs INT, \n",
      "lab_flags VARCHAR(200), \n",
      "qa_level VARCHAR(200), \n",
      "lab_conc_qual VARCHAR(200), \n",
      "validator_flags VARCHAR(200), \n",
      "detection_limit INT, \n",
      "reporting_limit INT, \n",
      "undetected VARCHAR(200), \n",
      "estimated VARCHAR(200), \n",
      "rejected VARCHAR(200), \n",
      "greater_than VARCHAR(200), \n",
      "tic VARCHAR(200), \n",
      "reportable VARCHAR(200), \n",
      "alias_id VARCHAR(200), \n",
      "comments VARCHAR(2000), \n",
      "river_mile DECIMAL, \n",
      "x_coord DECIMAL, \n",
      "y_coord DECIMAL, \n",
      "utm_x DECIMAL, \n",
      "utm_y DECIMAL, \n",
      "srid DECIMAL, \n",
      "lat_WGS84_auto_calculated_only_for_mapping DECIMAL, \n",
      "lon_WGS84_auto_calculated_only_for_mapping DECIMAL, \n",
      "PRIMARY KEY (anid) \n",
      ") ENGINE = INNODB;\n",
      "Index(['study_loc_id', 'principal_doc', 'location_id', 'lab', 'lab_pkg',\n",
      "       'anal_type', 'labsample', 'study_id', 'sample_no', 'sampcoll_id',\n",
      "       'sum_sample_id', 'sample_id', 'sample_date', 'study_element',\n",
      "       'composite_type', 'taxon', 'sample_material', 'sample_description',\n",
      "       'subsamp_type', 'upper_depth', 'lower_depth', 'depth_units',\n",
      "       'material_analyzed', 'method_code', 'meas_basis', 'lab_rep', 'analyte',\n",
      "       'full_name', 'cas_rn', 'original_lab_result', 'meas_value', 'units',\n",
      "       'sig_figs', 'lab_flags', 'qa_level', 'lab_conc_qual', 'validator_flags',\n",
      "       'detection_limit', 'reporting_limit', 'undetected', 'estimated',\n",
      "       'rejected', 'greater_than', 'tic', 'reportable', 'alias_id', 'comments',\n",
      "       'river_mile', 'x_coord', 'y_coord', 'srid'],\n",
      "      dtype='object')\n"
     ]
    }
   ],
   "source": [
    "# Automatically run and import py:\n",
    "%run C:/Users/Wolfs/PycharmProjects/bf768db_project/data_import.py\n"
   ]
  },
  {
   "cell_type": "code",
   "execution_count": null,
   "id": "under-consultancy",
   "metadata": {},
   "outputs": [],
   "source": []
  },
  {
   "cell_type": "code",
   "execution_count": null,
   "id": "another-married",
   "metadata": {},
   "outputs": [],
   "source": []
  },
  {
   "cell_type": "code",
   "execution_count": null,
   "id": "accessible-defendant",
   "metadata": {},
   "outputs": [],
   "source": []
  },
  {
   "cell_type": "code",
   "execution_count": null,
   "id": "elder-dollar",
   "metadata": {},
   "outputs": [],
   "source": []
  }
 ],
 "metadata": {
  "kernelspec": {
   "display_name": "Python 3",
   "language": "python",
   "name": "python3"
  },
  "language_info": {
   "codemirror_mode": {
    "name": "ipython",
    "version": 3
   },
   "file_extension": ".py",
   "mimetype": "text/x-python",
   "name": "python",
   "nbconvert_exporter": "python",
   "pygments_lexer": "ipython3",
   "version": "3.8.3"
  }
 },
 "nbformat": 4,
 "nbformat_minor": 5
}
